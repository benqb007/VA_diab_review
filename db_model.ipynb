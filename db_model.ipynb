{
 "cells": [
  {
   "cell_type": "code",
   "execution_count": 1,
   "metadata": {},
   "outputs": [],
   "source": [
    "import pandas as pd\n",
    "import numpy as np\n",
    "import matplotlib.pyplot as plt\n",
    "import seaborn as sns\n",
    "import os"
   ]
  },
  {
   "cell_type": "code",
   "execution_count": 2,
   "metadata": {},
   "outputs": [],
   "source": [
    "df = pd.read_excel('Model Database for Share (2).xlsx')"
   ]
  },
  {
   "cell_type": "code",
   "execution_count": 3,
   "metadata": {},
   "outputs": [],
   "source": [
    "\n",
    "# Performing initial operations on df\n",
    "bp = (\n",
    "    df\n",
    "    .rename(columns={'Unnamed: 0': 'Subject'})\n",
    "    .astype({'Subject': 'category'})\n",
    "    .dropna(subset=['Date of Visit'])\n",
    "    .drop(columns=['Last 4', 'DOB'])\n",
    "    .assign(Subject=lambda x: x['Subject'].ffill())\n",
    ")\n",
    "\n",
    "# Identifying and dropping the NaN-named column\n",
    "nan_column = bp.columns[bp.columns.isna()]\n",
    "if len(nan_column) > 0:\n",
    "    bp.drop(columns=nan_column, inplace=True)"
   ]
  },
  {
   "cell_type": "code",
   "execution_count": 4,
   "metadata": {},
   "outputs": [],
   "source": [
    "# Remove extra spaces and lowercase all letters of the column headers\n",
    "bp.columns = [str(col).strip().lower().replace(' ', '_') for col in bp.columns]\n"
   ]
  },
  {
   "cell_type": "code",
   "execution_count": 7,
   "metadata": {},
   "outputs": [],
   "source": [
    "bp.rename(columns={'medications_(gluc,_bp,_lipid,_statin)': 'medications'}, inplace=True)\n"
   ]
  },
  {
   "cell_type": "code",
   "execution_count": 8,
   "metadata": {},
   "outputs": [
    {
     "name": "stdout",
     "output_type": "stream",
     "text": [
      "<class 'pandas.core.frame.DataFrame'>\n",
      "Index: 688 entries, 0 to 1168\n",
      "Data columns (total 22 columns):\n",
      " #   Column            Non-Null Count  Dtype         \n",
      "---  ------            --------------  -----         \n",
      " 0   subject           688 non-null    category      \n",
      " 1   date_of_visit     688 non-null    datetime64[ns]\n",
      " 2   age               653 non-null    float64       \n",
      " 3   sex               459 non-null    object        \n",
      " 4   wt                682 non-null    float64       \n",
      " 5   sbp               675 non-null    float64       \n",
      " 6   dbp               675 non-null    object        \n",
      " 7   bmi               640 non-null    object        \n",
      " 8   obese             471 non-null    object        \n",
      " 9   pre-dm            464 non-null    object        \n",
      " 10  dm_t2             464 non-null    object        \n",
      " 11  a1c               525 non-null    object        \n",
      " 12  trig              483 non-null    float64       \n",
      " 13  hdl               483 non-null    object        \n",
      " 14  total_chol        483 non-null    float64       \n",
      " 15  ldl               481 non-null    object        \n",
      " 16  medications       384 non-null    object        \n",
      " 17  cgm               9 non-null      object        \n",
      " 18  able_to_adhere    1 non-null      object        \n",
      " 19  improved_energy?  0 non-null      float64       \n",
      " 20  hungry?           0 non-null      float64       \n",
      " 21  waist             0 non-null      float64       \n",
      "dtypes: category(1), datetime64[ns](1), float64(8), object(12)\n",
      "memory usage: 139.4+ KB\n"
     ]
    }
   ],
   "source": [
    "# Checking initial dtypes, totals, and NaNs\n",
    "bp.info()"
   ]
  },
  {
   "cell_type": "code",
   "execution_count": 9,
   "metadata": {},
   "outputs": [
    {
     "data": {
      "text/plain": [
       "470"
      ]
     },
     "execution_count": 9,
     "metadata": {},
     "output_type": "execute_result"
    }
   ],
   "source": [
    "# Counting unique subjects\n",
    "bp['subject'].nunique()"
   ]
  }
 ],
 "metadata": {
  "kernelspec": {
   "display_name": "ds",
   "language": "python",
   "name": "python3"
  },
  "language_info": {
   "codemirror_mode": {
    "name": "ipython",
    "version": 3
   },
   "file_extension": ".py",
   "mimetype": "text/x-python",
   "name": "python",
   "nbconvert_exporter": "python",
   "pygments_lexer": "ipython3",
   "version": "3.12.0"
  }
 },
 "nbformat": 4,
 "nbformat_minor": 2
}
